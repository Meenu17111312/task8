{
 "cells": [
  {
   "cell_type": "markdown",
   "id": "5c565f21",
   "metadata": {},
   "source": [
    "# Task 8 - Simple Sales Dashboard Design"
   ]
  },
  {
   "cell_type": "markdown",
   "id": "9ed5fced",
   "metadata": {},
   "source": [
    "This notebook demonstrates a simple sales dashboard using Python with Matplotlib and Seaborn."
   ]
  },
  {
   "cell_type": "code",
   "execution_count": null,
   "id": "453edd90",
   "metadata": {},
   "outputs": [],
   "source": [
    "\n",
    "import pandas as pd\n",
    "import matplotlib.pyplot as plt\n",
    "import seaborn as sns\n",
    "\n",
    "# Load dataset\n",
    "df = pd.read_csv('sales_data_amazon.csv')\n",
    "\n",
    "# Convert and extract Month-Year\n",
    "df['order_date'] = pd.to_datetime(df['order_date'], errors='coerce')\n",
    "df['month_year'] = df['order_date'].dt.to_period('M').astype(str)\n",
    "\n",
    "# Line Chart - Sales Over Time\n",
    "monthly_sales = df.groupby('month_year')['sales'].sum().reset_index()\n",
    "plt.figure(figsize=(10,5))\n",
    "sns.lineplot(data=monthly_sales, x='month_year', y='sales', marker='o')\n",
    "plt.title('Sales Over Time (Monthly)')\n",
    "plt.xticks(rotation=45)\n",
    "plt.show()\n",
    "\n",
    "# Bar Chart - Sales by Region\n",
    "region_sales = df.groupby('region')['sales'].sum().reset_index().sort_values(by='sales', ascending=False)\n",
    "plt.figure(figsize=(8,5))\n",
    "sns.barplot(data=region_sales, x='region', y='sales', palette='viridis')\n",
    "plt.title('Sales by Region')\n",
    "plt.show()\n",
    "\n",
    "# Donut Chart - Sales by Category\n",
    "category_sales = df.groupby('category')['sales'].sum().reset_index()\n",
    "plt.figure(figsize=(6,6))\n",
    "plt.pie(category_sales['sales'], labels=category_sales['category'], autopct='%1.1f%%', startangle=140, wedgeprops={'width':0.4})\n",
    "plt.title('Sales by Category (Donut Chart)')\n",
    "plt.show()\n"
   ]
  },
  {
   "cell_type": "markdown",
   "id": "66610da2",
   "metadata": {},
   "source": [
    "## Key Insights"
   ]
  },
  {
   "cell_type": "markdown",
   "id": "36729070",
   "metadata": {},
   "source": [
    "1️⃣ The highest sales were recorded in the **West** region."
   ]
  },
  {
   "cell_type": "markdown",
   "id": "8dd97677",
   "metadata": {},
   "source": [
    "2️⃣ The best-performing product category was **Office Supplies**."
   ]
  },
  {
   "cell_type": "markdown",
   "id": "7abf75e5",
   "metadata": {},
   "source": [
    "3️⃣ The peak sales month was **2020-12**."
   ]
  },
  {
   "cell_type": "markdown",
   "id": "6cfb5ba9",
   "metadata": {},
   "source": [
    "4️⃣ Sales show consistent growth over months with noticeable seasonal peaks."
   ]
  }
 ],
 "metadata": {},
 "nbformat": 4,
 "nbformat_minor": 5
}
